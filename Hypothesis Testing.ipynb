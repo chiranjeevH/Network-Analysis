{
 "cells": [
  {
   "cell_type": "markdown",
   "metadata": {},
   "source": [
    "HW Hypothesis Testing SOlution Q 1:"
   ]
  },
  {
   "cell_type": "code",
   "execution_count": 1,
   "id": "94b5fd25",
   "metadata": {},
   "outputs": [],
   "source": [
    "import numpy as np\n",
    "from scipy import stats"
   ]
  },
  {
   "cell_type": "code",
   "execution_count": 2,
   "id": "2c7b533c",
   "metadata": {},
   "outputs": [],
   "source": [
    "# Sample sizes and conversions for Version A and Version B\n",
    "n1 = 3250\n",
    "c1 = 1320\n",
    "n2 = 2870\n",
    "c2 = 1250"
   ]
  },
  {
   "cell_type": "code",
   "execution_count": 3,
   "id": "5254e0b6",
   "metadata": {},
   "outputs": [],
   "source": [
    "# Calculate the conversion rates for both versions\n",
    "p1 = c1 / n1\n",
    "p2 = c2 / n2\n",
    "\n",
    "# Combined proportion of conversions\n",
    "p = (c1 + c2) / (n1 + n2)\n",
    "\n",
    "# Calculate the standard error\n",
    "standard_error = np.sqrt(p * (1 - p) * (1/n1 + 1/n2))\n",
    "\n",
    "# Calculate the test statistic (z)\n",
    "z = (p1 - p2) / standard_error\n",
    "\n",
    "# Set the significance level (alpha)\n",
    "alpha = 0.05\n",
    "\n",
    "# Calculate the critical value for a two-tailed test\n",
    "z_critical = stats.norm.ppf(1 - alpha/2)"
   ]
  },
  {
   "cell_type": "code",
   "execution_count": 4,
   "id": "ec500f14",
   "metadata": {},
   "outputs": [
    {
     "name": "stdout",
     "output_type": "stream",
     "text": [
      "Reject the null hypothesis: There is a statistically significant difference in sales conversion rates between Version A and Version B.\n"
     ]
    }
   ],
   "source": [
    "# Compare the test statistic to the critical value\n",
    "if np.abs(z) > z_critical:\n",
    "    print(\"Reject the null hypothesis: There is a statistically significant difference in sales conversion rates between Version A and Version B.\")\n",
    "else:\n",
    "    print(\"Fail to reject the null hypothesis: There is no statistically significant difference in sales conversion rates between Version A and Version B.\")"
   ]
  },
  {
   "cell_type": "code",
   "execution_count": 5,
   "id": "030d6e28",
   "metadata": {},
   "outputs": [],
   "source": [
    "\n",
    "# Draw samples from the binomial distribution for Version A\n",
    "num_simulations = 10000\n",
    "samples_A = np.random.binomial(n1, p1, num_simulations)\n",
    "\n",
    "# Draw samples from the binomial distribution for Version B\n",
    "samples_B = np.random.binomial(n2, p2, num_simulations)"
   ]
  },
  {
   "cell_type": "code",
   "execution_count": 6,
   "id": "3b0a1d4f",
   "metadata": {},
   "outputs": [
    {
     "data": {
      "image/png": "[encoded data removed]",
      "text/plain": [
       "<Figure size 432x288 with 1 Axes>"
      ]
     },
     "metadata": {
      "needs_background": "light"
     },
     "output_type": "display_data"
    },
    {
     "name": "stdout",
     "output_type": "stream",
     "text": [
      "Samples for Version A:\n",
      "[1290 1292 1340 ... 1325 1294 1379]\n",
      "Samples for Version B:\n",
      "[1277 1216 1202 ... 1229 1281 1256]\n"
     ]
    }
   ],
   "source": [
    "# We now have two arrays, samples_A and samples_B, containing simulated conversion counts\n",
    "\n",
    "import matplotlib.pyplot as plt\n",
    "\n",
    "# Plot histograms of the samples\n",
    "plt.hist(samples_A, alpha=0.5, label='Version A', bins=30)\n",
    "plt.hist(samples_B, alpha=0.5, label='Version B', bins=30)\n",
    "plt.xlabel(\"Number of Conversions\")\n",
    "plt.ylabel(\"Frequency\")\n",
    "plt.legend(loc='upper right')\n",
    "plt.title(\"Simulated Conversion Counts for Version A and Version B\")\n",
    "plt.show()\n",
    "\n",
    "print(\"Samples for Version A:\")\n",
    "print(samples_A)\n",
    "\n",
    "print(\"Samples for Version B:\")\n",
    "print(samples_B)"
   ]
  },
  {
   "cell_type": "markdown",
   "metadata": {},
   "source": [
    "The simulated samples for Version A and Version B show a distribution of conversion counts. From the samples, it appears that Version A consistently achieves higher conversion counts compared to Version B. This aligns with the conclusion drawn from the hypothesis test, indicating that Version A is associated with a statistically significant higher chance of customer purchasing."
   ]
  },
  {
   "cell_type": "code",
   "execution_count": null,
   "metadata": {},
   "outputs": [],
   "source": [
    "################################################################################################"
   ]
  },
  {
   "cell_type": "markdown",
   "metadata": {},
   "source": [
    "HW Hypothesis Testing SOlution Q 2:"
   ]
  },
  {
   "cell_type": "code",
   "execution_count": 7,
   "metadata": {},
   "outputs": [
    {
     "name": "stdout",
     "output_type": "stream",
     "text": [
      "Updated probability that M1 is the machine given no payout: 0.47222222222222227\n",
      "Updated probability that M1 is the machine given a payout: 0.7499999999999999\n"
     ]
    }
   ],
   "source": [
    "#%%\n",
    "\n",
    "# Answer 2:\n",
    "\n",
    "# Given probabilities of payout for machines M1 and M2\n",
    "prob_payout_M1 = 0.15\n",
    "prob_payout_M2 = 0.05\n",
    "\n",
    "# Scenario 1: The coin does not pay out\n",
    "# Probability of this scenario for each machine\n",
    "prob_no_payout_M1 = 1 - prob_payout_M1\n",
    "prob_no_payout_M2 = 1 - prob_payout_M2\n",
    "\n",
    "# Applying Bayes' theorem to estimate the probability that M1 is the machine\n",
    "# P(M1 | no payout) = P(no payout | M1) * P(M1) / P(no payout)\n",
    "# P(M1 | no payout) is the updated probability that M1 is the machine given no payout\n",
    "# P(no payout | M1) is the probability of no payout given M1, which is prob_no_payout_M1\n",
    "# P(M1) is the prior probability of selecting M1, assuming an equal chance initially\n",
    "# P(no payout) is the total probability of no payout, calculated using the law of total probability\n",
    "\n",
    "prior_probability_M1 = 0.5  # Assuming an equal chance initially\n",
    "prob_no_payout = (prior_probability_M1 * prob_no_payout_M1) + ((1 - prior_probability_M1) * prob_no_payout_M2)\n",
    "\n",
    "updated_probability_M1_no_payout = (prob_no_payout_M1 * prior_probability_M1) / prob_no_payout\n",
    "\n",
    "# Scenario 2: The coin pays out\n",
    "# Probability of this scenario for each machine\n",
    "prob_payout_M1 = 0.15\n",
    "prob_payout_M2 = 0.05\n",
    "\n",
    "# Applying Bayes' theorem to update the probability that M1 is the machine given a payout\n",
    "# P(M1 | payout) = P(payout | M1) * P(M1) / P(payout)\n",
    "# P(payout | M1) is the probability of payout given M1, which is prob_payout_M1\n",
    "# P(M1) is the prior probability of selecting M1, assuming an equal chance initially\n",
    "# P(payout) is the total probability of payout, calculated using the law of total probability\n",
    "\n",
    "prior_probability_M1 = 0.5  # Assuming an equal chance initially\n",
    "prob_payout = (prior_probability_M1 * prob_payout_M1) + ((1 - prior_probability_M1) * prob_payout_M2)\n",
    "\n",
    "updated_probability_M1_payout = (prob_payout_M1 * prior_probability_M1) / prob_payout\n",
    "\n",
    "print(\"Updated probability that M1 is the machine given no payout:\", updated_probability_M1_no_payout)\n",
    "print(\"Updated probability that M1 is the machine given a payout:\", updated_probability_M1_payout)\n",
    "\n",
    "# %%\n"
   ]
  },
  {
   "cell_type": "markdown",
   "metadata": {},
   "source": [
    "No Payout Scenario:\n",
    "The updated probability that M1 is the selected machine given no payout is approximately 47.22%. This indicates a moderate confidence that M1 is the chosen machine when the coin does not pay out.\n",
    "\n",
    "Payout Scenario:\n",
    "In the event that the coin pays out, the updated probability that M1 is the selected machine increases to approximately 75%. This suggests a higher likelihood that M1 is the machine of interest when a payout occurs."
   ]
  }
 ],
 "metadata": {
  "kernelspec": {
   "display_name": "Python 3 (ipykernel)",
   "language": "python",
   "name": "python3"
  },
  "language_info": {
   "codemirror_mode": {
    "name": "ipython",
    "version": 3
   },
   "file_extension": ".py",
   "mimetype": "text/x-python",
   "name": "python",
   "nbconvert_exporter": "python",
   "pygments_lexer": "ipython3",
   "version": "3.9.7"
  }
 },
 "nbformat": 4,
 "nbformat_minor": 5
}
